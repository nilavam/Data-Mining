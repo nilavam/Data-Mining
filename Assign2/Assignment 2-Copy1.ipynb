{
 "cells": [
  {
   "cell_type": "markdown",
   "id": "d06ac5f8",
   "metadata": {},
   "source": [
    "# Question\n",
    "_Bootstrap with Least squares, Ridge and Lasso._ Let $\\beta = (\\beta_1, \\beta_2, \\cdots , \\beta_p)$ and let $\\pmb x, y$ be random variables such that the entries of $\\pmb x$ are i.i.d. standard normal random variables (i.e., with mean zero and variance $1$) and $y = \\beta^T \\pmb x + \\epsilon$ where $\\epsilon \\sim \\mathcal N(0, 1)$.\n",
    "\\begin{enumerate}\n",
    "\\item Simulate a dataset $(\\pmb x_1, y_1), \\cdots, (\\pmb x_n, y_n)$ as $n$ i.i.d. copies of the random variables $\\pmb x, y$ defined above, with $n = 800, p = 200$ and $\\beta_j = j^{−1}$:\n",
    "\\item The goal of this problem is to construct confidence intervals for $\\beta_1$ using Bootstrap method.\n",
    "\\begin{enumerate}[label=(\\alph*)]\n",
    "\\item Construct confidence intervals for $\\beta_1$ by bootstrapping the data and applying Least Squares to the bootstrapped dataset.\n",
    "\\item Construct confidence intervals for $\\beta_1$ by bootstrapping the data and applying Ridge to the bootstrapped data set.\n",
    "\\item Construct confidence intervals for $\\beta_1$ by bootstrapping the data and applying Lasso to the bootstrapped data set.\n",
    "\\end{enumerate}\\end{enumerate}\n",
    "\n",
    "First we initialize the above $n,p,\\beta$ as given in the above problem."
   ]
  },
  {
   "cell_type": "code",
   "execution_count": 2,
   "id": "bbde7608",
   "metadata": {},
   "outputs": [],
   "source": [
    "n = 800\n",
    "p = 200\n",
    "b = 1/(1:p)"
   ]
  },
  {
   "cell_type": "markdown",
   "id": "8a84c578",
   "metadata": {},
   "source": [
    "Now let's generate data:"
   ]
  },
  {
   "cell_type": "code",
   "execution_count": 3,
   "id": "a2ac25c3",
   "metadata": {},
   "outputs": [],
   "source": [
    "x = c()\n",
    "for(i in 1:n){\n",
    "    x = rbind(x,rnorm(p))\n",
    "}\n",
    "y = x %*% b + rnorm(n)"
   ]
  },
  {
   "cell_type": "markdown",
   "id": "e5694168",
   "metadata": {},
   "source": [
    "We now bootstrap, to get confidence intervals for $\\beta_1$. We sample $B$ datapoints from the above population.\n",
    "\n",
    "**Least squares:** The estimated $\\hat{\\pmb\\beta} = \\left(\\hat\\beta_1,\\cdots,\\hat\\beta_p\\right)$ is given by $M=\\left(X^\\top X\\right)^{-1}X^\\top Y$. We note that $\\hat\\beta_1$ is just the first entry of $M$. But this is just $M_1=\\left[\\left(X^\\top X\\right)^{-1}X^\\top Y\\right]_1 = \\left[\\left(X^\\top X\\right)^{-1}X^\\top \\right]_{1:}\\cdot Y = \\left[\\left(X^\\top X\\right)^{-1}\\right]_{1:}  \\cdot X^\\top \\cdot Y$. Here $A_{i:}$ denotes the $i^{\\text{th}}$ row of $A$. \n",
    "[//]: #\"Now it is reasonable to assume that $X$ has full rank $p$ (which is why $X^\\top X$ is being inverted). Recall that $X$ has size $n\\times p$ and has $p$ independent columns. Let $X=UDV^\\top$ be the SVD of $X$. So $D$ looks like $\\begin{bmatrix}d_1\\\\&\\ddots\\\\&&d_p \\\\ \\hline \\\\ &\\pmb 0_{(n-p)\\times p}\\\\~\\end{bmatrix}_{n\\times p}$. Denote by $D^{-L} \\stackrel{\\text{def}}{=} \\left[\\begin{array}{c|c}\\begin{matrix}d_1^{-1}\\\\&\\ddots\\\\&&d_p^{-1}\\end{matrix} & \\pmb 0_{p\\times(n-p)} \\end{array}\\right]_{p\\times n}$. It is clear that $D^{-L}D = \\pmb 1_{p\\times p}$. Then $\\left(X^\\top X\\right)^{-1}X^\\top = \\left(X^\\top X\\right)^{-1}X^\\top = VD^{-L}U^\\top$. But note that we only care about the first entry of the matrix $\\left(X^\\top X\\right)^{-1}X^\\top Y = VD^{-L}U^\\top$ which is simply $V_{1:}D^{-L}U^\\top Y$.\""
   ]
  },
  {
   "cell_type": "code",
   "execution_count": 14,
   "id": "23b1daef",
   "metadata": {},
   "outputs": [
    {
     "name": "stdout",
     "output_type": "stream",
     "text": [
      "[1] 0.9233566 0.9347742 0.9848128\n"
     ]
    }
   ],
   "source": [
    "B = 3\n",
    "b1.hat_ls = c()\n",
    "b1.hat_lasso = c()\n",
    "b1.hat_ridge = c()\n",
    "for(i in 1:B){\n",
    "    index = sample.int(n, n, replace = TRUE)\n",
    "    x.hat = x[index,]\n",
    "    y.hat = y[index]\n",
    "            \n",
    "    #use least squares to estimate beta\n",
    "    M = t(x.hat) %*% x.hat\n",
    "    M = solve(M)[1,] %*% t(x.hat)\n",
    "    M = M %*% y.hat\n",
    "    b1.hat_ls = append(b1.hat_ls, M)\n",
    "}\n",
    "\n",
    "b1.hat_ls = sort(b1.hat_ls)\n",
    "print(b1.hat_ls)"
   ]
  },
  {
   "cell_type": "markdown",
   "id": "44c9edb2",
   "metadata": {},
   "source": [
    "Now that we have the (sorted) bootstrapped data, we want to find the confidence intervals. Recall that $(1-\\alpha)^{\\text{th}}\\cdot 100\\%$ interval for $\\beta_1$ is $\\left[\\hat\\theta_{[L]}^*,\\hat\\theta_{[U]}^*\\right]$ where $L=\\frac{\\alpha B}{2}, U=\\frac{(1-\\alpha)B}{2}$ and $\\hat\\theta_i^*$ are the sorted bootstrapped data."
   ]
  },
  {
   "cell_type": "code",
   "execution_count": null,
   "id": "89e9409f",
   "metadata": {},
   "outputs": [],
   "source": [
    "alpha = 0.05\n"
   ]
  }
 ],
 "metadata": {
  "kernelspec": {
   "display_name": "R",
   "language": "R",
   "name": "ir"
  },
  "language_info": {
   "codemirror_mode": "r",
   "file_extension": ".r",
   "mimetype": "text/x-r-source",
   "name": "R",
   "pygments_lexer": "r",
   "version": "4.3.1"
  }
 },
 "nbformat": 4,
 "nbformat_minor": 5
}
