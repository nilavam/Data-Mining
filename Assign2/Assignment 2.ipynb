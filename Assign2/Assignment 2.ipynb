{
 "cells": [
  {
   "cell_type": "markdown",
   "id": "d06ac5f8",
   "metadata": {},
   "source": [
    "# Question\n",
    "_Bootstrap with Least squares, Ridge and Lasso._ Let $\\beta = (\\beta_1, \\beta_2, \\cdots , \\beta_p)$ and let $\\pmb x, y$ be random variables such that the entries of $\\pmb x$ are i.i.d. standard normal random variables (i.e., with mean zero and variance $1$) and $y = \\beta^T \\pmb x + \\epsilon$ where $\\epsilon \\sim \\mathcal N(0, 1)$.\n",
    "\\begin{enumerate}\n",
    "\\item Simulate a dataset $(\\pmb x_1, y_1), \\cdots, (\\pmb x_n, y_n)$ as $n$ i.i.d. copies of the random variables $\\pmb x, y$ defined above, with $n = 800, p = 200$ and $\\beta_j = j^{−1}$:\n",
    "\\item The goal of this problem is to construct confidence intervals for $\\beta_1$ using Bootstrap method.\n",
    "\\begin{enumerate}[label=(\\alph*)]\n",
    "\\item Construct confidence intervals for $\\beta_1$ by bootstrapping the data and applying Least Squares to the bootstrapped dataset.\n",
    "\\item Construct confidence intervals for $\\beta_1$ by bootstrapping the data and applying Ridge to the bootstrapped data set.\n",
    "\\item Construct confidence intervals for $\\beta_1$ by bootstrapping the data and applying Lasso to the bootstrapped data set.\n",
    "\\end{enumerate}\\end{enumerate}\n",
    "\n",
    "First we initialize the above $n,p,\\beta$ as given in the above problem."
   ]
  },
  {
   "cell_type": "code",
   "execution_count": 3,
   "id": "bbde7608",
   "metadata": {},
   "outputs": [],
   "source": [
    "n = 800\n",
    "p = 200\n",
    "b = 1/(1:p)"
   ]
  },
  {
   "cell_type": "markdown",
   "id": "8a84c578",
   "metadata": {},
   "source": [
    "Now let's generate data:"
   ]
  },
  {
   "cell_type": "code",
   "execution_count": 4,
   "id": "a2ac25c3",
   "metadata": {},
   "outputs": [],
   "source": [
    "x = c()\n",
    "for(i in 1:n){\n",
    "    x = rbind(x,rnorm(p))\n",
    "}\n",
    "y = x %*% b + rnorm(n)"
   ]
  },
  {
   "cell_type": "markdown",
   "id": "e5694168",
   "metadata": {},
   "source": [
    "We now bootstrap, to get confidence intervals for $\\beta_1$. We sample $B$ datapoints from the above population."
   ]
  },
  {
   "cell_type": "code",
   "execution_count": 5,
   "id": "23b1daef",
   "metadata": {},
   "outputs": [
    {
     "ename": "ERROR",
     "evalue": "Error in library(matlib): there is no package called ‘matlib’\n",
     "output_type": "error",
     "traceback": [
      "Error in library(matlib): there is no package called ‘matlib’\nTraceback:\n",
      "1. library(matlib)"
     ]
    }
   ],
   "source": [
    "library(matlib)\n",
    "B = 100\n",
    "b1.ls = numeric(B)\n",
    "b1.lasso = numeric(B)\n",
    "b1.ridge = numeric(B)\n",
    "for(i in 1:B){\n",
    "    index = sample.int(n, n, replace = TRUE)\n",
    "    x.hat = x[index,]\n",
    "    y.hat = y[index]\n",
    "    \n",
    "    #use least squares to estimate beta\n",
    "    M = inv(t(x.hat) %*% x.hat)\n",
    "    b1.ls[i] = (inv(M)) %*% t(x.hat) %*% y.hat\n",
    "}\n",
    "print(mean(b1.ls))"
   ]
  }
 ],
 "metadata": {
  "kernelspec": {
   "display_name": "R",
   "language": "R",
   "name": "ir"
  },
  "language_info": {
   "codemirror_mode": "r",
   "file_extension": ".r",
   "mimetype": "text/x-r-source",
   "name": "R",
   "pygments_lexer": "r",
   "version": "3.6.0"
  }
 },
 "nbformat": 4,
 "nbformat_minor": 5
}
