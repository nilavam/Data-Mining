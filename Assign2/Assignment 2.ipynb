{
 "cells": [
  {
   "cell_type": "markdown",
   "id": "d06ac5f8",
   "metadata": {},
   "source": [
    "# Question\n",
    "_Bootstrap with Least squares, Ridge and Lasso._ Let $\\beta = (\\beta_1, \\beta_2, \\cdots , \\beta_p)$ and let $\\pmb x, y$ be random variables such that the entries of $\\pmb x$ are i.i.d. standard normal random variables (i.e., with mean zero and variance $1$) and $y = \\beta^T \\pmb x + \\epsilon$ where $\\epsilon \\sim \\mathcal N(0, 1)$.\n",
    "\\begin{enumerate}\n",
    "\\item Simulate a dataset $(\\pmb x_1, y_1), \\cdots, (\\pmb x_n, y_n)$ as $n$ i.i.d. copies of the random variables $\\pmb x, y$ defined above, with $n = 800, p = 200$ and $\\beta_j = j^{−1}$:\n",
    "\\item The goal of this problem is to construct confidence intervals for $\\beta_1$ using Bootstrap method.\n",
    "\\begin{enumerate}[label=(\\alph*)]\n",
    "\\item Construct confidence intervals for $\\beta_1$ by bootstrapping the data and applying Least Squares to the bootstrapped dataset.\n",
    "\\item Construct confidence intervals for $\\beta_1$ by bootstrapping the data and applying Ridge to the bootstrapped data set.\n",
    "\\item Construct confidence intervals for $\\beta_1$ by bootstrapping the data and applying Lasso to the bootstrapped data set.\n",
    "\\end{enumerate}\\end{enumerate}\n",
    "\n",
    "First we initialize the above $n,p,\\beta$ as given in the above problem."
   ]
  },
  {
   "cell_type": "code",
   "execution_count": 89,
   "id": "bbde7608",
   "metadata": {},
   "outputs": [],
   "source": [
    "n = 800\n",
    "p = 200\n",
    "b = 1/(1:p)"
   ]
  },
  {
   "cell_type": "markdown",
   "id": "8a84c578",
   "metadata": {},
   "source": [
    "Now let's generate data:"
   ]
  },
  {
   "cell_type": "code",
   "execution_count": 90,
   "id": "a2ac25c3",
   "metadata": {},
   "outputs": [],
   "source": [
    "x = c()\n",
    "for(i in 1:n){\n",
    "    x = rbind(x,rnorm(p))\n",
    "}\n",
    "y = x %*% b + rnorm(n)"
   ]
  },
  {
   "cell_type": "markdown",
   "id": "e5694168",
   "metadata": {},
   "source": [
    "We now bootstrap, to get confidence intervals for $\\beta_1$. We sample $B$ datapoints from the above population.\n",
    "\n",
    "**Least squares:** The estimated $\\hat{\\pmb\\beta} = \\left(\\hat\\beta_1,\\cdots,\\hat\\beta_p\\right)$ is given by $M=\\left(X^\\top X\\right)^{-1}X^\\top Y$. We note that $\\hat\\beta_1$ is just the first entry of $M$. But this is just $M_1=\\left[\\left(X^\\top X\\right)^{-1}X^\\top Y\\right]_1 = \\left[\\left(X^\\top X\\right)^{-1}X^\\top \\right]_{1:}\\cdot Y = \\left[\\left(X^\\top X\\right)^{-1}\\right]_{1:}  \\cdot X^\\top \\cdot Y$. Here $A_{i:}$ denotes the $i^{\\text{th}}$ row of $A$. "
   ]
  },
  {
   "cell_type": "code",
   "execution_count": 91,
   "id": "23b1daef",
   "metadata": {},
   "outputs": [
    {
     "name": "stdout",
     "output_type": "stream",
     "text": [
      "\n",
      "Call:  glmnet(x = x.hat, y = y.hat, family = \"gaussian\") \n",
      "\n",
      "    Df  %Dev  Lambda\n",
      "1    0  0.00 0.94350\n",
      "2    1  5.78 0.85970\n",
      "3    1 10.58 0.78330\n",
      "4    1 14.56 0.71370\n",
      "5    1 17.87 0.65030\n",
      "6    1 20.62 0.59260\n",
      "7    2 23.54 0.53990\n",
      "8    2 27.45 0.49200\n",
      "9    2 30.69 0.44820\n",
      "10   2 33.38 0.40840\n",
      "11   2 35.62 0.37210\n",
      "12   3 37.70 0.33910\n",
      "13   3 39.96 0.30900\n",
      "14   3 41.84 0.28150\n",
      "15   4 43.86 0.25650\n",
      "16   4 45.54 0.23370\n",
      "17   6 47.34 0.21300\n",
      "18   6 49.07 0.19400\n",
      "19   6 50.51 0.17680\n",
      "20   8 51.88 0.16110\n",
      "21  10 53.18 0.14680\n",
      "22  11 54.41 0.13370\n",
      "23  14 55.53 0.12190\n",
      "24  19 56.82 0.11100\n",
      "25  20 58.17 0.10120\n",
      "26  22 59.45 0.09218\n",
      "27  32 60.81 0.08399\n",
      "28  36 62.15 0.07653\n",
      "29  40 63.50 0.06973\n",
      "30  46 64.75 0.06354\n",
      "31  59 66.02 0.05789\n",
      "32  63 67.27 0.05275\n",
      "33  71 68.44 0.04806\n",
      "34  75 69.48 0.04379\n",
      "35  80 70.41 0.03990\n",
      "36  85 71.30 0.03636\n",
      "37  94 72.11 0.03313\n",
      "38 100 72.93 0.03019\n",
      "39 110 73.70 0.02750\n",
      "40 116 74.40 0.02506\n",
      "41 122 75.02 0.02283\n",
      "42 128 75.59 0.02081\n",
      "43 131 76.09 0.01896\n",
      "44 132 76.52 0.01727\n",
      "45 137 76.89 0.01574\n",
      "46 142 77.22 0.01434\n",
      "47 143 77.50 0.01307\n",
      "48 146 77.75 0.01191\n",
      "49 151 77.96 0.01085\n",
      "50 158 78.15 0.00988\n",
      "51 163 78.32 0.00901\n",
      "52 163 78.46 0.00821\n",
      "53 170 78.60 0.00748\n",
      "54 173 78.72 0.00681\n",
      "55 177 78.82 0.00621\n",
      "56 177 78.91 0.00566\n",
      "57 179 78.99 0.00515\n",
      "58 181 79.05 0.00470\n",
      "59 184 79.11 0.00428\n",
      "60 189 79.16 0.00390\n",
      "61 190 79.21 0.00355\n",
      "62 192 79.25 0.00324\n",
      "63 193 79.28 0.00295\n",
      "64 195 79.31 0.00269\n",
      "65 196 79.33 0.00245\n",
      "66 196 79.35 0.00223\n",
      "67 196 79.37 0.00203\n",
      "68 196 79.38 0.00185\n",
      "69 196 79.39 0.00169\n",
      "70 197 79.40 0.00154\n",
      "71 197 79.41 0.00140\n",
      "72 197 79.41 0.00128\n",
      "73 197 79.42 0.00116\n",
      "74 197 79.43 0.00106\n",
      "75 197 79.43 0.00097\n",
      "76 197 79.43 0.00088\n",
      "77 197 79.44 0.00080\n",
      "78 199 79.44 0.00073\n",
      "79 199 79.44 0.00067\n",
      "80 199 79.44 0.00061\n",
      "81 199 79.44 0.00055\n",
      "82 199 79.44 0.00050\n",
      "83 199 79.45 0.00046\n",
      "84 199 79.45 0.00042\n",
      "85 199 79.45 0.00038\n",
      "[1] 1.074353\n"
     ]
    }
   ],
   "source": [
    "library(glmnet)\n",
    "B = 1\n",
    "b1.hat_ls = c()\n",
    "b1.hat_lasso = c()\n",
    "b1.hat_ridge = c()\n",
    "for(i in 1:B){\n",
    "    index = sample.int(n, n, replace = TRUE)\n",
    "    x.hat = x[index,]\n",
    "    y.hat = y[index]\n",
    "            \n",
    "    #use least squares to estimate beta\n",
    "    M = t(x.hat) %*% x.hat\n",
    "    M = solve(M)[1,] %*% t(x.hat)\n",
    "    M = M %*% y.hat\n",
    "    b1.hat_ls = append(b1.hat_ls, M)\n",
    "    lasso = glmnet(x.hat,y.hat,family = 'gaussian')\n",
    "}\n",
    "print(lasso)\n",
    "b1.hat_ls = sort(b1.hat_ls)\n",
    "print(b1.hat_ls)"
   ]
  },
  {
   "cell_type": "markdown",
   "id": "44c9edb2",
   "metadata": {},
   "source": [
    "Now that we have the (sorted) bootstrapped data, we want to find the confidence intervals. Recall that $(1-\\alpha)^{\\text{th}}\\cdot 100\\%$ interval for $\\beta_1$ is $\\left[\\hat\\theta_{[L]}^*,\\hat\\theta_{[U]}^*\\right]$ where $L=\\frac{\\alpha B}{2}, U=\\left(1-\\frac{\\alpha}{2}\\right)B$ and $\\hat\\theta_i^*$ are the sorted bootstrapped data."
   ]
  },
  {
   "cell_type": "code",
   "execution_count": 53,
   "id": "89e9409f",
   "metadata": {},
   "outputs": [
    {
     "name": "stdout",
     "output_type": "stream",
     "text": [
      "numeric(0)\n",
      "numeric(0)\n"
     ]
    }
   ],
   "source": [
    "a = 0.05\n",
    "L = floor(a * B / 2)\n",
    "U = floor((1 - a / 2) * B)\n",
    "print(b1.hat_ls[L])\n",
    "print(b1.hat_ls[U])"
   ]
  }
 ],
 "metadata": {
  "kernelspec": {
   "display_name": "R",
   "language": "R",
   "name": "ir"
  },
  "language_info": {
   "codemirror_mode": "r",
   "file_extension": ".r",
   "mimetype": "text/x-r-source",
   "name": "R",
   "pygments_lexer": "r",
   "version": "4.3.1"
  }
 },
 "nbformat": 4,
 "nbformat_minor": 5
}
