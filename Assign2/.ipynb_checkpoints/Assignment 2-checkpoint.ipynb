{
 "cells": [
  {
   "cell_type": "markdown",
   "id": "eb75fe67",
   "metadata": {},
   "source": [
    "# Question\n",
    "_Bootstrap with Least squares, Ridge and Lasso._ Let $\\beta = (\\beta_1, \\beta_2, \\cdots , \\beta_p)$ and let $\\pmb x, y$ be random variables such that the entries of $\\pmb x$ are i.i.d. standard normal random variables (i.e., with mean zero and variance $1$) and $y = \\beta^T \\pmb x + \\epsilon$ where $\\epsilon \\sim \\mathcal N(0, 1)$.\n",
    "\\begin{enumerate}\n",
    "\\item Simulate a dataset $(\\pmb x_1, y_1), \\cdots, (\\pmb x_n, y_n)$ as $n$ i.i.d. copies of the random variables $\\pmb x, y$ defined above, with $n = 800, p = 200$ and $\\beta_j = j^{−1}$:\n",
    "\\item The goal of this problem is to construct confidence intervals for $\\beta_1$ using Bootstrap method.\n",
    "\\begin{enumerate}[label=(\\alph*)]\n",
    "\\item Construct confidence intervals for $\\beta_1$ by bootstrapping the data and applying Least Squares to the bootstrapped dataset.\n",
    "\\item Construct confidence intervals for $\\beta_1$ by bootstrapping the data and applying Ridge to the bootstrapped data set.\n",
    "\\item Construct confidence intervals for $\\beta_1$ by bootstrapping the data and applying Lasso to the bootstrapped data set.\n",
    "\\end{enumerate}\n",
    "\\end{enumerate}"
   ]
  },
  {
   "cell_type": "code",
   "execution_count": 11,
   "id": "9cbfdd9e",
   "metadata": {},
   "outputs": [],
   "source": [
    "n <- 200\n",
    "p <- 2\n",
    "b <- 1/(1:p)"
   ]
  },
  {
   "cell_type": "code",
   "execution_count": 23,
   "id": "cadf312c",
   "metadata": {},
   "outputs": [
    {
     "name": "stdout",
     "output_type": "stream",
     "text": [
      "           [,1]\n",
      "[1,] -0.4792588\n",
      "[2,]  1.0477827\n",
      "[3,] -1.1060848\n",
      "[4,]  0.1338060\n",
      "[5,]  1.2490325\n"
     ]
    }
   ],
   "source": [
    "x = c()\n",
    "for(i in 1:n){\n",
    "    x = rbind(x,rnorm(p))\n",
    "}\n",
    "y=x%*%b+rnorm(n)\n",
    "print(y)"
   ]
  }
 ],
 "metadata": {
  "kernelspec": {
   "display_name": "R",
   "language": "R",
   "name": "ir"
  },
  "language_info": {
   "codemirror_mode": "r",
   "file_extension": ".r",
   "mimetype": "text/x-r-source",
   "name": "R",
   "pygments_lexer": "r",
   "version": "3.6.0"
  }
 },
 "nbformat": 4,
 "nbformat_minor": 5
}
