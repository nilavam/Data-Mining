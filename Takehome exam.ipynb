{
 "cells": [
  {
   "cell_type": "markdown",
   "id": "49dff732",
   "metadata": {},
   "source": [
    "\\author{Nilava Metya}"
   ]
  },
  {
   "cell_type": "markdown",
   "id": "b41a6b01",
   "metadata": {},
   "source": [
    "# Problem\n",
    "Define the dissimilarity between two observations, xi and xi′ , with p-dimensional attributes/inputs/features\n",
    "as the following: $$D(x_{i},x_{i'}) = \\sum_{j=1}^p w_jd_j\\left(x_{ij},x_{i'j}\\right)$$ where the weights $w_j$ satisfy $\\sum_{j=1}^p w_j=1$ and $d_j\\left(x_i,x_{i'}\\right) = \\left(x_{ij}-x_{i'j}\\right)^2$ is the squared error distance. Assume there are n observations. How to specify the weights wj so that each attribute has equal influence? Please explain your reasons and provide detailed derivations."
   ]
  },
  {
   "cell_type": "markdown",
   "id": "6bdbe72c",
   "metadata": {},
   "source": [
    "## Solution\n",
    "The (relative) influence of an attribute is determined by its contribution to the average dissimiliarity. The average dissimilarity is given by $$\\overline D = \\frac{1}{n^2}\\sum_{1\\leq i,i'\\leq n} D(x_i,x_{i'}) = \\frac{1}{n^2}\\sum_{1\\leq i,i'\\leq n}\\sum_{j=1}^p w_jd_j\\left(x_{ij},x_{i'j}\\right) = \\sum_{j=1}^p w_j \\left(\\frac{1}{n^2}\\sum_{1\\leq i,i'\\leq n}d_j\\left(x_{ij},x_{i'j}\\right)\\right) = \\sum_{j=1}^p w_j\\overline{d_j}$$ where $\\displaystyle \\overline{d_j} = \\frac{1}{n^2}\\sum_{1\\leq i,i'\\leq n}d_j\\left(x_{ij},x_{i'j}\\right)$. So the influence of the $j^{\\text{th}}$ variable is given by $w_j\\overline{d_j}$. To have equal influence means to have all $w_j\\overline{d_j}$ equal. So we simply choose $\\displaystyle w_j = \\frac{1/\\overline{d_j}}{\\sum_{i=1}^p \\frac{1}{\\overline{d_i}}}$. The denominator is simply a normalizing factor to make $\\sum_{j=1}^p w_j=1$. \n",
    "\n",
    "Now we compute $\\overline{d_j}$ in our case. Clearly $\\displaystyle \\overline{d_j} = \\frac{1}{n^2}\\sum_{1\\leq i,i'\\leq n}d_j\\left(x_{ij},x_{i'j}\\right) = \\frac{1}{n^2}\\sum_{1\\leq i,i'\\leq n} \\left(x_{ij}-x_{i'j}\\right)^2$. Now note that $\\frac{1}{n^2}\\sum_{1\\leq i,i'\\leq n} \\left(X_{i}-X_{i'}\\right)^2 = \\frac{1}{n^2}\\sum_{i,i'}X_i^2 + \\frac{1}{n^2}\\sum_{i,i'}X_{i'}^2 - \\frac{1}{n^2}\\sum_{i,i'}2X_iX_{i'} = 2\\left[\\frac{1}{n}\\sum_i X_i^2 - \\left(\\frac{1}{n}\\sum_iX_i\\right)^2\\right] = 2 (E(X^2) - E(X)^2) = 2\\sigma_X^2$ where $\\sigma_X$ is the standard deviation. Thus it stands that $\\overline{d_j} = 2\\sigma_j^2$ where $\\sigma_j$ is the standard deviation of the $j^{\\text{th}}$ attribute. Therefore we want the weights to be $\\displaystyle w_j = \\frac{\\sigma_j^{-2}}{\\sum_{i=1}^p \\frac{1}{\\sigma_i^2}}$."
   ]
  },
  {
   "cell_type": "markdown",
   "id": "3a22b969",
   "metadata": {},
   "source": [
    "\\newpage\n",
    "# Problem\n",
    "\\textit{Download the Iris data (you can use data(iris) in \\texttt{R}).}\n",
    "\\begin{enumerate}\n",
    "\\item The output is “species” which has three values and there are in total $150$ observations. The objective\n",
    "is to predict “species” using the four covariates. Please compare the performance of the following\n",
    "three commonly used classifies: (a) LDA, (b) logistic regression, (c) nearest neighbors. Summarize\n",
    "your results.\n",
    "\\item Remove the output “species” from the data and apply the $k-$means clustering. Compare the clustering\n",
    "results to the true group defined by species and summarize the results.\n",
    "\\item If the number of species is unknown in (2), can you recommend a method to estimate it. Describe\n",
    "the idea and the algorithm (not necessary to produce results).\n",
    "\\item {[Bonus]} Compare the performance of (2) with another clustering method.\n",
    "\\end{enumerate}"
   ]
  },
  {
   "cell_type": "markdown",
   "id": "4b6e81a3",
   "metadata": {},
   "source": [
    "Let's import the data and divide it into training and testing data. The data comprises $150$ observations, out of which we take $90$ of those to be training data and the other $60$ to be testing data."
   ]
  },
  {
   "cell_type": "code",
   "execution_count": 1,
   "id": "a4bfab61",
   "metadata": {},
   "outputs": [],
   "source": [
    "set.seed(-459091842)\n",
    "data = iris\n",
    "\n",
    "#pick some training data\n",
    "train_rows = sample(nrow(data), replace = FALSE, 90)\n",
    "ir.train = data[train_rows,]\n",
    "x.train = ir.train[,c(1:4)]\n",
    "y.train = ir.train[,c(5)]\n",
    "\n",
    "#the rest are testing data\n",
    "ir.test = data[-train_rows,]\n",
    "x.test = ir.test[,c(1:4)]\n",
    "y.test = ir.test[,c(5)]"
   ]
  },
  {
   "cell_type": "markdown",
   "id": "1dbbf26e",
   "metadata": {},
   "source": [
    "Let's start with **Linear Discriminant Analysis**. There are three \\texttt{Species}: \\texttt{setosa}, \\texttt{versicolor} and \\texttt{virginica}."
   ]
  },
  {
   "cell_type": "code",
   "execution_count": 2,
   "id": "bd30d5ed",
   "metadata": {
    "scrolled": true
   },
   "outputs": [
    {
     "data": {
      "text/plain": [
       "Call:\n",
       "lda(Species ~ Petal.Width + Petal.Length + Sepal.Width + Sepal.Length, \n",
       "    data = ir.train)\n",
       "\n",
       "Prior probabilities of groups:\n",
       "    setosa versicolor  virginica \n",
       " 0.3555556  0.3111111  0.3333333 \n",
       "\n",
       "Group means:\n",
       "           Petal.Width Petal.Length Sepal.Width Sepal.Length\n",
       "setosa        0.253125     1.443750    3.409375     5.003125\n",
       "versicolor    1.364286     4.335714    2.814286     6.053571\n",
       "virginica     2.103333     5.600000    2.993333     6.673333\n",
       "\n",
       "Coefficients of linear discriminants:\n",
       "                    LD1        LD2\n",
       "Petal.Width  -2.9638172 -3.9018805\n",
       "Petal.Length -2.0092156  1.7192566\n",
       "Sepal.Width   1.4715672 -1.4279477\n",
       "Sepal.Length  0.6446696 -0.4880036\n",
       "\n",
       "Proportion of trace:\n",
       "   LD1    LD2 \n",
       "0.9914 0.0086 "
      ]
     },
     "metadata": {},
     "output_type": "display_data"
    }
   ],
   "source": [
    "library(MASS) #needed for LDA\n",
    "ir.lda = lda(Species ~ Petal.Width + Petal.Length + Sepal.Width + Sepal.Length, data = ir.train)\n",
    "ir.lda"
   ]
  },
  {
   "cell_type": "markdown",
   "id": "395bd67c",
   "metadata": {},
   "source": [
    "Now that we have fit the LDA model, we do the predictions and find the testing and training error."
   ]
  },
  {
   "cell_type": "code",
   "execution_count": 3,
   "id": "ab3cc556",
   "metadata": {},
   "outputs": [
    {
     "name": "stdout",
     "output_type": "stream",
     "text": [
      "testing error: 0.03333333 \n",
      "training error: 0.02222222"
     ]
    }
   ],
   "source": [
    "ir.lda.predict.test = predict(ir.lda, x.test)\n",
    "ir.lda.error.test = mean(ir.lda.predict.test$class != y.test)\n",
    "cat(\"testing error:\", ir.lda.error.test,\"\\n\")\n",
    "\n",
    "ir.lda.predict.train = predict(ir.lda, x.train)\n",
    "ir.lda.error.train = mean(ir.lda.predict.train$class != y.train)\n",
    "cat(\"training error:\", ir.lda.error.train)"
   ]
  },
  {
   "cell_type": "markdown",
   "id": "e12864d4",
   "metadata": {},
   "source": [
    "\\newline\n",
    "We do **Logistic Regression** now. There are three \\texttt{Species}: \\texttt{setosa}, \\texttt{versicolor} and \\texttt{virginica}. Since logistic regression only works for binary classification, we have to use a modified procedure. Luckily the \\texttt{vglm()} function in the \\texttt{VGAM} package handles this.\n",
    "\n",
    "Before that, let's first reduce the number of covariates."
   ]
  },
  {
   "cell_type": "code",
   "execution_count": 4,
   "id": "af4b9637",
   "metadata": {},
   "outputs": [
    {
     "data": {
      "text/plain": [
       "\n",
       "Call:\n",
       "glm(formula = Species ~ Sepal.Width + Sepal.Length + Petal.Width + \n",
       "    Petal.Length, family = \"binomial\", data = ir_restricted)\n",
       "\n",
       "Coefficients:\n",
       "             Estimate Std. Error z value Pr(>|z|)  \n",
       "(Intercept)   -42.638     25.707  -1.659   0.0972 .\n",
       "Sepal.Width    -6.681      4.480  -1.491   0.1359  \n",
       "Sepal.Length   -2.465      2.394  -1.030   0.3032  \n",
       "Petal.Width    18.286      9.743   1.877   0.0605 .\n",
       "Petal.Length    9.429      4.737   1.991   0.0465 *\n",
       "---\n",
       "Signif. codes:  0 ‘***’ 0.001 ‘**’ 0.01 ‘*’ 0.05 ‘.’ 0.1 ‘ ’ 1\n",
       "\n",
       "(Dispersion parameter for binomial family taken to be 1)\n",
       "\n",
       "    Null deviance: 138.629  on 99  degrees of freedom\n",
       "Residual deviance:  11.899  on 95  degrees of freedom\n",
       "AIC: 21.899\n",
       "\n",
       "Number of Fisher Scoring iterations: 10\n"
      ]
     },
     "metadata": {},
     "output_type": "display_data"
    }
   ],
   "source": [
    "not_setosa = which(data[,c(5)] != \"setosa\")\n",
    "ir_restricted = data[not_setosa,]\n",
    "model.lr = glm(Species ~ Sepal.Width + Sepal.Length + Petal.Width + Petal.Length,data = ir_restricted, family = \"binomial\")\n",
    "summary(model.lr)"
   ]
  },
  {
   "cell_type": "markdown",
   "id": "44fa5da1",
   "metadata": {},
   "source": [
    "There's no warning which means that that the data \\texttt{versicolor} and \\texttt{virginica} are not well-separated."
   ]
  },
  {
   "cell_type": "code",
   "execution_count": 5,
   "id": "9f1e4f58",
   "metadata": {},
   "outputs": [
    {
     "name": "stderr",
     "output_type": "stream",
     "text": [
      "Warning message:\n",
      "“glm.fit: algorithm did not converge”\n",
      "Warning message:\n",
      "“glm.fit: fitted probabilities numerically 0 or 1 occurred”\n"
     ]
    },
    {
     "data": {
      "text/plain": [
       "\n",
       "Call:\n",
       "glm(formula = Species ~ Sepal.Width + Sepal.Length + Petal.Width + \n",
       "    Petal.Length, family = \"binomial\", data = ir_restricted)\n",
       "\n",
       "Coefficients:\n",
       "               Estimate Std. Error z value Pr(>|z|)\n",
       "(Intercept)     -15.168 560540.412       0        1\n",
       "Sepal.Width      -4.172  94374.304       0        1\n",
       "Sepal.Length     -3.961 143416.970       0        1\n",
       "Petal.Width       9.736 169967.550       0        1\n",
       "Petal.Length     11.975  88570.514       0        1\n",
       "\n",
       "(Dispersion parameter for binomial family taken to be 1)\n",
       "\n",
       "    Null deviance: 1.3863e+02  on 99  degrees of freedom\n",
       "Residual deviance: 8.5827e-10  on 95  degrees of freedom\n",
       "AIC: 10\n",
       "\n",
       "Number of Fisher Scoring iterations: 25\n"
      ]
     },
     "metadata": {},
     "output_type": "display_data"
    }
   ],
   "source": [
    "not_versicolor = which(data[,c(5)] != \"versicolor\")\n",
    "ir_restricted = data[not_versicolor,]\n",
    "model.lr = glm(Species ~ Sepal.Width + Sepal.Length + Petal.Width + Petal.Length,data = ir_restricted, family = \"binomial\")\n",
    "summary(model.lr)"
   ]
  },
  {
   "cell_type": "markdown",
   "id": "b24e3609",
   "metadata": {},
   "source": [
    "The warning message indicated that the data for \\texttt{setosa} and \\texttt{virginica} are not well-separated."
   ]
  },
  {
   "cell_type": "code",
   "execution_count": 6,
   "id": "7b9ec19d",
   "metadata": {},
   "outputs": [
    {
     "name": "stderr",
     "output_type": "stream",
     "text": [
      "Warning message:\n",
      "“glm.fit: algorithm did not converge”\n",
      "Warning message:\n",
      "“glm.fit: fitted probabilities numerically 0 or 1 occurred”\n"
     ]
    },
    {
     "data": {
      "text/plain": [
       "\n",
       "Call:\n",
       "glm(formula = Species ~ Sepal.Width + Sepal.Length + Petal.Width + \n",
       "    Petal.Length, family = \"binomial\", data = ir_restricted)\n",
       "\n",
       "Coefficients:\n",
       "               Estimate Std. Error z value Pr(>|z|)\n",
       "(Intercept)       6.556 601950.323       0        1\n",
       "Sepal.Width      -7.418  92924.451       0        1\n",
       "Sepal.Length     -9.879 194223.245       0        1\n",
       "Petal.Width      25.033 216058.936       0        1\n",
       "Petal.Length     19.054 144515.981       0        1\n",
       "\n",
       "(Dispersion parameter for binomial family taken to be 1)\n",
       "\n",
       "    Null deviance: 1.3863e+02  on 99  degrees of freedom\n",
       "Residual deviance: 1.3166e-09  on 95  degrees of freedom\n",
       "AIC: 10\n",
       "\n",
       "Number of Fisher Scoring iterations: 25\n"
      ]
     },
     "metadata": {},
     "output_type": "display_data"
    }
   ],
   "source": [
    "not_virginica = which(data[,c(5)] != \"virginica\")\n",
    "ir_restricted = data[not_virginica,]\n",
    "model.lr = glm(Species ~ Sepal.Width + Sepal.Length + Petal.Width + Petal.Length,data = ir_restricted, family = \"binomial\")\n",
    "summary(model.lr)"
   ]
  },
  {
   "cell_type": "markdown",
   "id": "fb4ddf1a",
   "metadata": {},
   "source": [
    "The warning message indicated that the data for \\texttt{setosa} and \\texttt{versicolor} are not well-separated."
   ]
  },
  {
   "cell_type": "markdown",
   "id": "836c56d7",
   "metadata": {},
   "source": [
    "\\\\\n",
    "Looking at the summary for the logistic regression model fitted for \\texttt{versicolor} vs \\texttt{virginica}, we discard the coviriates \\texttt{Sepal.Width} and \\texttt{Sepal.Length} because they have the highest $P(>|z|)$ values.\n",
    "\n",
    "\\\\\n",
    "Now we are ready to fit the model on training data based on these two covariates."
   ]
  },
  {
   "cell_type": "code",
   "execution_count": 7,
   "id": "14b473a5",
   "metadata": {},
   "outputs": [
    {
     "name": "stderr",
     "output_type": "stream",
     "text": [
      "Loading required package: stats4\n",
      "\n",
      "Loading required package: splines\n",
      "\n",
      "Warning message in checkwz(wz, M = M, trace = trace, wzepsilon = control$wzepsilon):\n",
      "“1 diagonal elements of the working weights variable 'wz' have been replaced by 1.819e-12”\n",
      "Warning message in checkwz(wz, M = M, trace = trace, wzepsilon = control$wzepsilon):\n",
      "“7 diagonal elements of the working weights variable 'wz' have been replaced by 1.819e-12”\n",
      "Warning message in checkwz(wz, M = M, trace = trace, wzepsilon = control$wzepsilon):\n",
      "“13 diagonal elements of the working weights variable 'wz' have been replaced by 1.819e-12”\n",
      "Warning message in checkwz(wz, M = M, trace = trace, wzepsilon = control$wzepsilon):\n",
      "“20 diagonal elements of the working weights variable 'wz' have been replaced by 1.819e-12”\n",
      "Warning message in checkwz(wz, M = M, trace = trace, wzepsilon = control$wzepsilon):\n",
      "“24 diagonal elements of the working weights variable 'wz' have been replaced by 1.819e-12”\n",
      "Warning message in checkwz(wz, M = M, trace = trace, wzepsilon = control$wzepsilon):\n",
      "“28 diagonal elements of the working weights variable 'wz' have been replaced by 1.819e-12”\n",
      "Warning message in checkwz(wz, M = M, trace = trace, wzepsilon = control$wzepsilon):\n",
      "“31 diagonal elements of the working weights variable 'wz' have been replaced by 1.819e-12”\n",
      "Warning message in checkwz(wz, M = M, trace = trace, wzepsilon = control$wzepsilon):\n",
      "“35 diagonal elements of the working weights variable 'wz' have been replaced by 1.819e-12”\n",
      "Warning message in checkwz(wz, M = M, trace = trace, wzepsilon = control$wzepsilon):\n",
      "“41 diagonal elements of the working weights variable 'wz' have been replaced by 1.819e-12”\n",
      "Warning message in checkwz(wz, M = M, trace = trace, wzepsilon = control$wzepsilon):\n",
      "“47 diagonal elements of the working weights variable 'wz' have been replaced by 1.819e-12”\n",
      "Warning message in checkwz(wz, M = M, trace = trace, wzepsilon = control$wzepsilon):\n",
      "“48 diagonal elements of the working weights variable 'wz' have been replaced by 1.819e-12”\n",
      "Warning message in checkwz(wz, M = M, trace = trace, wzepsilon = control$wzepsilon):\n",
      "“51 diagonal elements of the working weights variable 'wz' have been replaced by 1.819e-12”\n",
      "Warning message in checkwz(wz, M = M, trace = trace, wzepsilon = control$wzepsilon):\n",
      "“57 diagonal elements of the working weights variable 'wz' have been replaced by 1.819e-12”\n",
      "Warning message in checkwz(wz, M = M, trace = trace, wzepsilon = control$wzepsilon):\n",
      "“64 diagonal elements of the working weights variable 'wz' have been replaced by 1.819e-12”\n",
      "Warning message in checkwz(wz, M = M, trace = trace, wzepsilon = control$wzepsilon):\n",
      "“71 diagonal elements of the working weights variable 'wz' have been replaced by 1.819e-12”\n",
      "Warning message in checkwz(wz, M = M, trace = trace, wzepsilon = control$wzepsilon):\n",
      "“84 diagonal elements of the working weights variable 'wz' have been replaced by 1.819e-12”\n",
      "Warning message in checkwz(wz, M = M, trace = trace, wzepsilon = control$wzepsilon):\n",
      "“90 diagonal elements of the working weights variable 'wz' have been replaced by 1.819e-12”\n",
      "Warning message in slot(family, \"linkinv\")(eta, extra = extra):\n",
      "“fitted probabilities numerically 0 or 1 occurred”\n",
      "Warning message in tfun(mu = mu, y = y, w = w, res = FALSE, eta = eta, extra = extra):\n",
      "“fitted values close to 0 or 1”\n",
      "Warning message in slot(family, \"linkinv\")(eta, extra = extra):\n",
      "“fitted probabilities numerically 0 or 1 occurred”\n",
      "Warning message in tfun(mu = mu, y = y, w = w, res = FALSE, eta = eta, extra = extra):\n",
      "“fitted values close to 0 or 1”\n",
      "Warning message in slot(family, \"linkinv\")(eta, extra = extra):\n",
      "“fitted probabilities numerically 0 or 1 occurred”\n",
      "Warning message in tfun(mu = mu, y = y, w = w, res = FALSE, eta = eta, extra = extra):\n",
      "“fitted values close to 0 or 1”\n",
      "Warning message in vglm.fitter(x = x, y = y, w = w, offset = offset, Xm2 = Xm2, :\n",
      "“some quantities such as z, residuals, SEs may be inaccurate due to convergence at a half-step”\n"
     ]
    },
    {
     "data": {
      "text/plain": [
       "\n",
       "Call:\n",
       "vglm(formula = Species ~ Petal.Width + Petal.Length, family = multinomial, \n",
       "    data = ir.train)\n",
       "\n",
       "Coefficients: \n",
       "                Estimate Std. Error z value Pr(>|z|)  \n",
       "(Intercept):1    140.510  35177.106      NA       NA  \n",
       "(Intercept):2     82.284     42.278   1.946   0.0516 .\n",
       "Petal.Width:1    -19.555  89363.128   0.000   0.9998  \n",
       "Petal.Width:2     -7.126      5.598      NA       NA  \n",
       "Petal.Length:1   -33.341  37257.251  -0.001   0.9993  \n",
       "Petal.Length:2   -14.302      7.772  -1.840   0.0657 .\n",
       "---\n",
       "Signif. codes:  0 ‘***’ 0.001 ‘**’ 0.01 ‘*’ 0.05 ‘.’ 0.1 ‘ ’ 1\n",
       "\n",
       "Names of linear predictors: log(mu[,1]/mu[,3]), log(mu[,2]/mu[,3])\n",
       "\n",
       "Residual deviance: 9.2879 on 174 degrees of freedom\n",
       "\n",
       "Log-likelihood: -4.6439 on 174 degrees of freedom\n",
       "\n",
       "Number of Fisher scoring iterations: 22 \n",
       "\n",
       "Warning: Hauck-Donner effect detected in the following estimate(s):\n",
       "'(Intercept):1', 'Petal.Width:2'\n",
       "\n",
       "\n",
       "Reference group is level  3  of the response"
      ]
     },
     "metadata": {},
     "output_type": "display_data"
    }
   ],
   "source": [
    "library(VGAM)\n",
    "ir.lr = vglm(Species ~ Petal.Width + Petal.Length, data = ir.train, family = multinomial)\n",
    "summary(ir.lr)"
   ]
  },
  {
   "cell_type": "markdown",
   "id": "1d79abf3",
   "metadata": {},
   "source": [
    "The warnings above mean that the classes are easily separated, which is why MLE doesn't exist."
   ]
  },
  {
   "cell_type": "code",
   "execution_count": 8,
   "id": "bb4b62a9",
   "metadata": {},
   "outputs": [
    {
     "data": {
      "text/html": [
       "<style>\n",
       ".list-inline {list-style: none; margin:0; padding: 0}\n",
       ".list-inline>li {display: inline-block}\n",
       ".list-inline>li:not(:last-child)::after {content: \"\\00b7\"; padding: 0 .5ex}\n",
       "</style>\n",
       "<ol class=list-inline><li>'Sepal.Length'</li><li>'Sepal.Width'</li><li>'Petal.Length'</li><li>'Petal.Width'</li><li>'Species'</li></ol>\n"
      ],
      "text/latex": [
       "\\begin{enumerate*}\n",
       "\\item 'Sepal.Length'\n",
       "\\item 'Sepal.Width'\n",
       "\\item 'Petal.Length'\n",
       "\\item 'Petal.Width'\n",
       "\\item 'Species'\n",
       "\\end{enumerate*}\n"
      ],
      "text/markdown": [
       "1. 'Sepal.Length'\n",
       "2. 'Sepal.Width'\n",
       "3. 'Petal.Length'\n",
       "4. 'Petal.Width'\n",
       "5. 'Species'\n",
       "\n",
       "\n"
      ],
      "text/plain": [
       "[1] \"Sepal.Length\" \"Sepal.Width\"  \"Petal.Length\" \"Petal.Width\"  \"Species\"     "
      ]
     },
     "metadata": {},
     "output_type": "display_data"
    }
   ],
   "source": [
    "colnames(ir.test)"
   ]
  },
  {
   "cell_type": "markdown",
   "id": "975837a7",
   "metadata": {},
   "source": [
    "First we note above that \\texttt{Petal.Length} and \\texttt{Petal.Width} correspond to columns $3$ and $4$ respectively. Now we are ready to predict using this model. "
   ]
  },
  {
   "cell_type": "code",
   "execution_count": 9,
   "id": "81695e4a",
   "metadata": {},
   "outputs": [
    {
     "name": "stdout",
     "output_type": "stream",
     "text": [
      "testing error: 0.05 \n",
      "training error: 0.03333333"
     ]
    }
   ],
   "source": [
    "ir.lr.predict.test = predict(ir.lr, ir.test[, c(3, 4)], type = \"response\")\n",
    "cl = apply(ir.lr.predict.test, 1, which.max)\n",
    "cl[cl == 1] = \"setosa\"\n",
    "cl[cl == 2] = \"versicolor\"\n",
    "cl[cl == 3] = \"virginica\"\n",
    "ir.lr.error.test = mean(y.test != data.frame(cl)[,c(1)])\n",
    "cat(\"testing error:\", ir.lr.error.test,\"\\n\")\n",
    "\n",
    "ir.lr.predict.train = predict(ir.lr, ir.train[, c(3, 4)], type = \"response\")\n",
    "cl = apply(ir.lr.predict.train, 1, which.max)\n",
    "cl[cl == 1] = \"setosa\"\n",
    "cl[cl == 2] = \"versicolor\"\n",
    "cl[cl == 3] = \"virginica\"\n",
    "ir.lr.error.train = mean(y.train != data.frame(cl)[,c(1)])\n",
    "cat(\"training error:\", ir.lr.error.train)"
   ]
  },
  {
   "cell_type": "markdown",
   "id": "feb4019e",
   "metadata": {},
   "source": [
    "\\newline\n",
    "Now we come to $k$**-nearest neighbours**."
   ]
  },
  {
   "cell_type": "code",
   "execution_count": 10,
   "id": "1d6e8259",
   "metadata": {},
   "outputs": [
    {
     "data": {
      "text/html": [
       "<table class=\"dataframe\">\n",
       "<caption>A data.frame: 20 × 3</caption>\n",
       "<thead>\n",
       "\t<tr><th scope=col>k</th><th scope=col>ir.knn.error.test</th><th scope=col>ir.knn.error.train</th></tr>\n",
       "\t<tr><th scope=col>&lt;int&gt;</th><th scope=col>&lt;dbl&gt;</th><th scope=col>&lt;dbl&gt;</th></tr>\n",
       "</thead>\n",
       "<tbody>\n",
       "\t<tr><td> 1</td><td>0.03333333</td><td>0.00000000</td></tr>\n",
       "\t<tr><td> 2</td><td>0.03333333</td><td>0.01111111</td></tr>\n",
       "\t<tr><td> 3</td><td>0.05000000</td><td>0.03333333</td></tr>\n",
       "\t<tr><td> 4</td><td>0.05000000</td><td>0.04444444</td></tr>\n",
       "\t<tr><td> 5</td><td>0.05000000</td><td>0.03333333</td></tr>\n",
       "\t<tr><td> 6</td><td>0.06666667</td><td>0.03333333</td></tr>\n",
       "\t<tr><td> 7</td><td>0.06666667</td><td>0.02222222</td></tr>\n",
       "\t<tr><td> 8</td><td>0.08333333</td><td>0.02222222</td></tr>\n",
       "\t<tr><td> 9</td><td>0.08333333</td><td>0.01111111</td></tr>\n",
       "\t<tr><td>10</td><td>0.05000000</td><td>0.02222222</td></tr>\n",
       "\t<tr><td>11</td><td>0.05000000</td><td>0.02222222</td></tr>\n",
       "\t<tr><td>12</td><td>0.06666667</td><td>0.03333333</td></tr>\n",
       "\t<tr><td>13</td><td>0.08333333</td><td>0.04444444</td></tr>\n",
       "\t<tr><td>14</td><td>0.08333333</td><td>0.04444444</td></tr>\n",
       "\t<tr><td>15</td><td>0.08333333</td><td>0.04444444</td></tr>\n",
       "\t<tr><td>16</td><td>0.08333333</td><td>0.03333333</td></tr>\n",
       "\t<tr><td>17</td><td>0.06666667</td><td>0.04444444</td></tr>\n",
       "\t<tr><td>18</td><td>0.06666667</td><td>0.04444444</td></tr>\n",
       "\t<tr><td>19</td><td>0.08333333</td><td>0.04444444</td></tr>\n",
       "\t<tr><td>20</td><td>0.08333333</td><td>0.04444444</td></tr>\n",
       "</tbody>\n",
       "</table>\n"
      ],
      "text/latex": [
       "A data.frame: 20 × 3\n",
       "\\begin{tabular}{lll}\n",
       " k & ir.knn.error.test & ir.knn.error.train\\\\\n",
       " <int> & <dbl> & <dbl>\\\\\n",
       "\\hline\n",
       "\t  1 & 0.03333333 & 0.00000000\\\\\n",
       "\t  2 & 0.03333333 & 0.01111111\\\\\n",
       "\t  3 & 0.05000000 & 0.03333333\\\\\n",
       "\t  4 & 0.05000000 & 0.04444444\\\\\n",
       "\t  5 & 0.05000000 & 0.03333333\\\\\n",
       "\t  6 & 0.06666667 & 0.03333333\\\\\n",
       "\t  7 & 0.06666667 & 0.02222222\\\\\n",
       "\t  8 & 0.08333333 & 0.02222222\\\\\n",
       "\t  9 & 0.08333333 & 0.01111111\\\\\n",
       "\t 10 & 0.05000000 & 0.02222222\\\\\n",
       "\t 11 & 0.05000000 & 0.02222222\\\\\n",
       "\t 12 & 0.06666667 & 0.03333333\\\\\n",
       "\t 13 & 0.08333333 & 0.04444444\\\\\n",
       "\t 14 & 0.08333333 & 0.04444444\\\\\n",
       "\t 15 & 0.08333333 & 0.04444444\\\\\n",
       "\t 16 & 0.08333333 & 0.03333333\\\\\n",
       "\t 17 & 0.06666667 & 0.04444444\\\\\n",
       "\t 18 & 0.06666667 & 0.04444444\\\\\n",
       "\t 19 & 0.08333333 & 0.04444444\\\\\n",
       "\t 20 & 0.08333333 & 0.04444444\\\\\n",
       "\\end{tabular}\n"
      ],
      "text/markdown": [
       "\n",
       "A data.frame: 20 × 3\n",
       "\n",
       "| k &lt;int&gt; | ir.knn.error.test &lt;dbl&gt; | ir.knn.error.train &lt;dbl&gt; |\n",
       "|---|---|---|\n",
       "|  1 | 0.03333333 | 0.00000000 |\n",
       "|  2 | 0.03333333 | 0.01111111 |\n",
       "|  3 | 0.05000000 | 0.03333333 |\n",
       "|  4 | 0.05000000 | 0.04444444 |\n",
       "|  5 | 0.05000000 | 0.03333333 |\n",
       "|  6 | 0.06666667 | 0.03333333 |\n",
       "|  7 | 0.06666667 | 0.02222222 |\n",
       "|  8 | 0.08333333 | 0.02222222 |\n",
       "|  9 | 0.08333333 | 0.01111111 |\n",
       "| 10 | 0.05000000 | 0.02222222 |\n",
       "| 11 | 0.05000000 | 0.02222222 |\n",
       "| 12 | 0.06666667 | 0.03333333 |\n",
       "| 13 | 0.08333333 | 0.04444444 |\n",
       "| 14 | 0.08333333 | 0.04444444 |\n",
       "| 15 | 0.08333333 | 0.04444444 |\n",
       "| 16 | 0.08333333 | 0.03333333 |\n",
       "| 17 | 0.06666667 | 0.04444444 |\n",
       "| 18 | 0.06666667 | 0.04444444 |\n",
       "| 19 | 0.08333333 | 0.04444444 |\n",
       "| 20 | 0.08333333 | 0.04444444 |\n",
       "\n"
      ],
      "text/plain": [
       "   k  ir.knn.error.test ir.knn.error.train\n",
       "1   1 0.03333333        0.00000000        \n",
       "2   2 0.03333333        0.01111111        \n",
       "3   3 0.05000000        0.03333333        \n",
       "4   4 0.05000000        0.04444444        \n",
       "5   5 0.05000000        0.03333333        \n",
       "6   6 0.06666667        0.03333333        \n",
       "7   7 0.06666667        0.02222222        \n",
       "8   8 0.08333333        0.02222222        \n",
       "9   9 0.08333333        0.01111111        \n",
       "10 10 0.05000000        0.02222222        \n",
       "11 11 0.05000000        0.02222222        \n",
       "12 12 0.06666667        0.03333333        \n",
       "13 13 0.08333333        0.04444444        \n",
       "14 14 0.08333333        0.04444444        \n",
       "15 15 0.08333333        0.04444444        \n",
       "16 16 0.08333333        0.03333333        \n",
       "17 17 0.06666667        0.04444444        \n",
       "18 18 0.06666667        0.04444444        \n",
       "19 19 0.08333333        0.04444444        \n",
       "20 20 0.08333333        0.04444444        "
      ]
     },
     "metadata": {},
     "output_type": "display_data"
    }
   ],
   "source": [
    "library(class)\n",
    "k = c(1:20)\n",
    "ir.knn.error.test = numeric(length(k)) #initializing vector for testing errors\n",
    "ir.knn.error.train = numeric(length(k)) #initializing vector for training errors\n",
    "for (i in k) {\n",
    "  ir.knn.predict.test = knn(x.train, x.test, y.train, k[i])\n",
    "  ir.knn.predict.train = knn(x.train, x.train, y.train, k[i])\n",
    "  ir.knn.error.test[i] = mean(ir.knn.predict.test != y.test)\n",
    "  ir.knn.error.train[i] = mean(ir.knn.predict.train != y.train)\n",
    "}\n",
    "data.frame(k,ir.knn.error.test,ir.knn.error.train)"
   ]
  },
  {
   "cell_type": "markdown",
   "id": "983f9635",
   "metadata": {},
   "source": [
    "Let's summarize the training and testing errors. "
   ]
  },
  {
   "cell_type": "code",
   "execution_count": 14,
   "id": "f5061ec0",
   "metadata": {},
   "outputs": [
    {
     "name": "stdout",
     "output_type": "stream",
     "text": [
      "                             Test Error(%) Train Error(%)\n",
      "Linear Discriminant Analysis    0.03333333     0.02222222\n",
      "Logistic Regression             0.05000000     0.03333333\n",
      "inbuilt k-NN with k = 1         0.03333333     0.00000000\n",
      "inbuilt k-NN with k = 2         0.03333333     0.01111111\n",
      "inbuilt k-NN with k = 3         0.05000000     0.03333333\n",
      "inbuilt k-NN with k = 4         0.05000000     0.04444444\n",
      "inbuilt k-NN with k = 5         0.05000000     0.03333333\n",
      "inbuilt k-NN with k = 6         0.06666667     0.03333333\n",
      "inbuilt k-NN with k = 7         0.06666667     0.02222222\n",
      "inbuilt k-NN with k = 8         0.08333333     0.02222222\n",
      "inbuilt k-NN with k = 9         0.08333333     0.01111111\n",
      "inbuilt k-NN with k = 10        0.05000000     0.02222222\n",
      "inbuilt k-NN with k = 11        0.05000000     0.02222222\n",
      "inbuilt k-NN with k = 12        0.06666667     0.03333333\n",
      "inbuilt k-NN with k = 13        0.08333333     0.04444444\n",
      "inbuilt k-NN with k = 14        0.08333333     0.04444444\n",
      "inbuilt k-NN with k = 15        0.08333333     0.04444444\n",
      "inbuilt k-NN with k = 16        0.08333333     0.03333333\n",
      "inbuilt k-NN with k = 17        0.06666667     0.04444444\n",
      "inbuilt k-NN with k = 18        0.06666667     0.04444444\n",
      "inbuilt k-NN with k = 19        0.08333333     0.04444444\n",
      "inbuilt k-NN with k = 20        0.08333333     0.04444444\n"
     ]
    }
   ],
   "source": [
    "error = matrix(c(ir.lda.error.test, ir.lr.error.test, ir.knn.error.test, ir.lda.error.train, ir.lr.error.train, ir.knn.error.train), ncol = 2)\n",
    "colnames(error) = c(\"Test Error(%)\", \"Train Error(%)\")\n",
    "rownames(error) = c(\"Linear Discriminant Analysis\", \"Logistic Regression\", paste(\"inbuilt k-NN with k =\", k))\n",
    "print(error)"
   ]
  },
  {
   "cell_type": "markdown",
   "id": "c15bac17",
   "metadata": {},
   "source": [
    "Here's plot for the testing errors for each of these."
   ]
  },
  {
   "cell_type": "code",
   "execution_count": 17,
   "id": "735b315f",
   "metadata": {
    "scrolled": true
   },
   "outputs": [
    {
     "data": {
      "image/png": "[encoded data removed]",
      "text/plain": [
       "plot without title"
      ]
     },
     "metadata": {
      "image/png": {
       "height": 420,
       "width": 420
      }
     },
     "output_type": "display_data"
    }
   ],
   "source": [
    "y.lim = c(min(c(ir.knn.error.test, ir.lr.error.test, ir.lda.error.test)), max(c(ir.knn.error.test, ir.lr.error.test, ir.lda.error.test)))\n",
    "plot(k,ir.knn.error.test, type = 'o', lty = 2, ylim = y.lim, col = \"dark green\", ylab = \"testing error\")\n",
    "abline(h = ir.lr.error.test, col = \"blue\", lty = 2, cex = 2)\n",
    "abline(h = ir.lda.error.test, col = \"red\", lty = 2, cex = 2)\n",
    "legend(13.2, 0.045, legend = c(\"LDA\", \"Logistic Regression\",\"knn\"), col = c(\"red\", \"blue\", \"dark green\"), lty = c(2,2,2), cex = 1)"
   ]
  },
  {
   "cell_type": "markdown",
   "id": "f5a8937c",
   "metadata": {},
   "source": [
    "Now let's plot the training errors for each of these."
   ]
  },
  {
   "cell_type": "code",
   "execution_count": 16,
   "id": "581dcc8f",
   "metadata": {},
   "outputs": [
    {
     "data": {
      "image/png": "[encoded data removed]",
      "text/plain": [
       "plot without title"
      ]
     },
     "metadata": {
      "image/png": {
       "height": 420,
       "width": 420
      }
     },
     "output_type": "display_data"
    }
   ],
   "source": [
    "y.lim = c(min(c(ir.knn.error.train, ir.lr.error.train, ir.lda.error.train)), max(c(ir.knn.error.train, ir.lr.error.train, ir.lda.error.train)))\n",
    "plot(k,ir.knn.error.train, type = 'o', lty = 2, ylim = y.lim, col = \"dark green\", ylab = \"training error\")\n",
    "abline(h = ir.lr.error.train, col = \"blue\", lty = 2, cex = 2)\n",
    "abline(h = ir.lda.error.train, col = \"red\", lty = 2, cex = 2)\n",
    "legend(13.2, 0.01, legend = c(\"LDA\", \"Logistic Regression\",\"knn\"), col = c(\"red\", \"blue\", \"dark green\"), lty = c(2,2,2), cex = 1)"
   ]
  },
  {
   "cell_type": "markdown",
   "id": "f991eddf",
   "metadata": {},
   "source": [
    "Now we move to $(b)$. This is $k-$means clustering by just using the $X$ from our data."
   ]
  },
  {
   "cell_type": "code",
   "execution_count": 171,
   "id": "9397d6af",
   "metadata": {},
   "outputs": [
    {
     "name": "stdout",
     "output_type": "stream",
     "text": [
      "Error: 10.66667 %\n",
      "The incorrect predictions:\n"
     ]
    },
    {
     "data": {
      "text/html": [
       "<table class=\"dataframe\">\n",
       "<caption>A data.frame: 16 × 6</caption>\n",
       "<thead>\n",
       "\t<tr><th></th><th scope=col>Sepal.Length</th><th scope=col>Sepal.Width</th><th scope=col>Petal.Length</th><th scope=col>Petal.Width</th><th scope=col>Actual Species</th><th scope=col>Predicted Species</th></tr>\n",
       "\t<tr><th></th><th scope=col>&lt;dbl&gt;</th><th scope=col>&lt;dbl&gt;</th><th scope=col>&lt;dbl&gt;</th><th scope=col>&lt;dbl&gt;</th><th scope=col>&lt;fct&gt;</th><th scope=col>&lt;chr&gt;</th></tr>\n",
       "</thead>\n",
       "<tbody>\n",
       "\t<tr><th scope=row>53</th><td>6.9</td><td>3.1</td><td>4.9</td><td>1.5</td><td>versicolor</td><td>virginica </td></tr>\n",
       "\t<tr><th scope=row>78</th><td>6.7</td><td>3.0</td><td>5.0</td><td>1.7</td><td>versicolor</td><td>virginica </td></tr>\n",
       "\t<tr><th scope=row>102</th><td>5.8</td><td>2.7</td><td>5.1</td><td>1.9</td><td>virginica </td><td>versicolor</td></tr>\n",
       "\t<tr><th scope=row>107</th><td>4.9</td><td>2.5</td><td>4.5</td><td>1.7</td><td>virginica </td><td>versicolor</td></tr>\n",
       "\t<tr><th scope=row>114</th><td>5.7</td><td>2.5</td><td>5.0</td><td>2.0</td><td>virginica </td><td>versicolor</td></tr>\n",
       "\t<tr><th scope=row>115</th><td>5.8</td><td>2.8</td><td>5.1</td><td>2.4</td><td>virginica </td><td>versicolor</td></tr>\n",
       "\t<tr><th scope=row>120</th><td>6.0</td><td>2.2</td><td>5.0</td><td>1.5</td><td>virginica </td><td>versicolor</td></tr>\n",
       "\t<tr><th scope=row>122</th><td>5.6</td><td>2.8</td><td>4.9</td><td>2.0</td><td>virginica </td><td>versicolor</td></tr>\n",
       "\t<tr><th scope=row>124</th><td>6.3</td><td>2.7</td><td>4.9</td><td>1.8</td><td>virginica </td><td>versicolor</td></tr>\n",
       "\t<tr><th scope=row>127</th><td>6.2</td><td>2.8</td><td>4.8</td><td>1.8</td><td>virginica </td><td>versicolor</td></tr>\n",
       "\t<tr><th scope=row>128</th><td>6.1</td><td>3.0</td><td>4.9</td><td>1.8</td><td>virginica </td><td>versicolor</td></tr>\n",
       "\t<tr><th scope=row>134</th><td>6.3</td><td>2.8</td><td>5.1</td><td>1.5</td><td>virginica </td><td>versicolor</td></tr>\n",
       "\t<tr><th scope=row>139</th><td>6.0</td><td>3.0</td><td>4.8</td><td>1.8</td><td>virginica </td><td>versicolor</td></tr>\n",
       "\t<tr><th scope=row>143</th><td>5.8</td><td>2.7</td><td>5.1</td><td>1.9</td><td>virginica </td><td>versicolor</td></tr>\n",
       "\t<tr><th scope=row>147</th><td>6.3</td><td>2.5</td><td>5.0</td><td>1.9</td><td>virginica </td><td>versicolor</td></tr>\n",
       "\t<tr><th scope=row>150</th><td>5.9</td><td>3.0</td><td>5.1</td><td>1.8</td><td>virginica </td><td>versicolor</td></tr>\n",
       "</tbody>\n",
       "</table>\n"
      ],
      "text/latex": [
       "A data.frame: 16 × 6\n",
       "\\begin{tabular}{r|llllll}\n",
       "  & Sepal.Length & Sepal.Width & Petal.Length & Petal.Width & Actual Species & Predicted Species\\\\\n",
       "  & <dbl> & <dbl> & <dbl> & <dbl> & <fct> & <chr>\\\\\n",
       "\\hline\n",
       "\t53 & 6.9 & 3.1 & 4.9 & 1.5 & versicolor & virginica \\\\\n",
       "\t78 & 6.7 & 3.0 & 5.0 & 1.7 & versicolor & virginica \\\\\n",
       "\t102 & 5.8 & 2.7 & 5.1 & 1.9 & virginica  & versicolor\\\\\n",
       "\t107 & 4.9 & 2.5 & 4.5 & 1.7 & virginica  & versicolor\\\\\n",
       "\t114 & 5.7 & 2.5 & 5.0 & 2.0 & virginica  & versicolor\\\\\n",
       "\t115 & 5.8 & 2.8 & 5.1 & 2.4 & virginica  & versicolor\\\\\n",
       "\t120 & 6.0 & 2.2 & 5.0 & 1.5 & virginica  & versicolor\\\\\n",
       "\t122 & 5.6 & 2.8 & 4.9 & 2.0 & virginica  & versicolor\\\\\n",
       "\t124 & 6.3 & 2.7 & 4.9 & 1.8 & virginica  & versicolor\\\\\n",
       "\t127 & 6.2 & 2.8 & 4.8 & 1.8 & virginica  & versicolor\\\\\n",
       "\t128 & 6.1 & 3.0 & 4.9 & 1.8 & virginica  & versicolor\\\\\n",
       "\t134 & 6.3 & 2.8 & 5.1 & 1.5 & virginica  & versicolor\\\\\n",
       "\t139 & 6.0 & 3.0 & 4.8 & 1.8 & virginica  & versicolor\\\\\n",
       "\t143 & 5.8 & 2.7 & 5.1 & 1.9 & virginica  & versicolor\\\\\n",
       "\t147 & 6.3 & 2.5 & 5.0 & 1.9 & virginica  & versicolor\\\\\n",
       "\t150 & 5.9 & 3.0 & 5.1 & 1.8 & virginica  & versicolor\\\\\n",
       "\\end{tabular}\n"
      ],
      "text/markdown": [
       "\n",
       "A data.frame: 16 × 6\n",
       "\n",
       "| <!--/--> | Sepal.Length &lt;dbl&gt; | Sepal.Width &lt;dbl&gt; | Petal.Length &lt;dbl&gt; | Petal.Width &lt;dbl&gt; | Actual Species &lt;fct&gt; | Predicted Species &lt;chr&gt; |\n",
       "|---|---|---|---|---|---|---|\n",
       "| 53 | 6.9 | 3.1 | 4.9 | 1.5 | versicolor | virginica  |\n",
       "| 78 | 6.7 | 3.0 | 5.0 | 1.7 | versicolor | virginica  |\n",
       "| 102 | 5.8 | 2.7 | 5.1 | 1.9 | virginica  | versicolor |\n",
       "| 107 | 4.9 | 2.5 | 4.5 | 1.7 | virginica  | versicolor |\n",
       "| 114 | 5.7 | 2.5 | 5.0 | 2.0 | virginica  | versicolor |\n",
       "| 115 | 5.8 | 2.8 | 5.1 | 2.4 | virginica  | versicolor |\n",
       "| 120 | 6.0 | 2.2 | 5.0 | 1.5 | virginica  | versicolor |\n",
       "| 122 | 5.6 | 2.8 | 4.9 | 2.0 | virginica  | versicolor |\n",
       "| 124 | 6.3 | 2.7 | 4.9 | 1.8 | virginica  | versicolor |\n",
       "| 127 | 6.2 | 2.8 | 4.8 | 1.8 | virginica  | versicolor |\n",
       "| 128 | 6.1 | 3.0 | 4.9 | 1.8 | virginica  | versicolor |\n",
       "| 134 | 6.3 | 2.8 | 5.1 | 1.5 | virginica  | versicolor |\n",
       "| 139 | 6.0 | 3.0 | 4.8 | 1.8 | virginica  | versicolor |\n",
       "| 143 | 5.8 | 2.7 | 5.1 | 1.9 | virginica  | versicolor |\n",
       "| 147 | 6.3 | 2.5 | 5.0 | 1.9 | virginica  | versicolor |\n",
       "| 150 | 5.9 | 3.0 | 5.1 | 1.8 | virginica  | versicolor |\n",
       "\n"
      ],
      "text/plain": [
       "    Sepal.Length Sepal.Width Petal.Length Petal.Width Actual Species\n",
       "53  6.9          3.1         4.9          1.5         versicolor    \n",
       "78  6.7          3.0         5.0          1.7         versicolor    \n",
       "102 5.8          2.7         5.1          1.9         virginica     \n",
       "107 4.9          2.5         4.5          1.7         virginica     \n",
       "114 5.7          2.5         5.0          2.0         virginica     \n",
       "115 5.8          2.8         5.1          2.4         virginica     \n",
       "120 6.0          2.2         5.0          1.5         virginica     \n",
       "122 5.6          2.8         4.9          2.0         virginica     \n",
       "124 6.3          2.7         4.9          1.8         virginica     \n",
       "127 6.2          2.8         4.8          1.8         virginica     \n",
       "128 6.1          3.0         4.9          1.8         virginica     \n",
       "134 6.3          2.8         5.1          1.5         virginica     \n",
       "139 6.0          3.0         4.8          1.8         virginica     \n",
       "143 5.8          2.7         5.1          1.9         virginica     \n",
       "147 6.3          2.5         5.0          1.9         virginica     \n",
       "150 5.9          3.0         5.1          1.8         virginica     \n",
       "    Predicted Species\n",
       "53  virginica        \n",
       "78  virginica        \n",
       "102 versicolor       \n",
       "107 versicolor       \n",
       "114 versicolor       \n",
       "115 versicolor       \n",
       "120 versicolor       \n",
       "122 versicolor       \n",
       "124 versicolor       \n",
       "127 versicolor       \n",
       "128 versicolor       \n",
       "134 versicolor       \n",
       "139 versicolor       \n",
       "143 versicolor       \n",
       "147 versicolor       \n",
       "150 versicolor       "
      ]
     },
     "metadata": {},
     "output_type": "display_data"
    }
   ],
   "source": [
    "ir.x = data[,c(1:4)]\n",
    "ir.y = data[,5]\n",
    "ir.km = kmeans(ir.x, 3, nstart = 25)$cluster\n",
    "dummy = rep(\"a\", length(ir.km))\n",
    "error = c()\n",
    "min_err = 2\n",
    "min_err.index = c(0,0,0)\n",
    "answer = c()\n",
    "for (i in 1:3){\n",
    "    for (j in 1:3){\n",
    "        for (p in 1:3){\n",
    "            if (i==j | j==p | p==i) next\n",
    "            dummy[ir.km == i] = \"setosa\"\n",
    "            dummy[ir.km == j] = \"versicolor\"\n",
    "            dummy[ir.km == p] = \"virginica\"\n",
    "            e = mean(dummy != ir.y)\n",
    "            error = append(error, e)\n",
    "            if(e < min_err){\n",
    "                min_err = e\n",
    "                min_err.index = c(i,j,p)\n",
    "                answer = dummy\n",
    "            }\n",
    "        }\n",
    "    }\n",
    "}\n",
    "cat(\"Error:\",min_err*100,\"%\\n\")\n",
    "d = cbind(data[which(answer != ir.y),],answer[which(answer != ir.y)])\n",
    "colnames(d) = c(\"Sepal.Length\", \"Sepal.Width\", \"Petal.Length\", \"Petal.Width\", \"Actual Species\", \"Predicted Species\")\n",
    "cat(\"The incorrect predictions:\\n\")\n",
    "d"
   ]
  },
  {
   "cell_type": "markdown",
   "id": "e9ca4a66",
   "metadata": {},
   "source": [
    "$(c)$ For this part we don't know the number of clusters and want to find it. \n",
    "\n",
    "One method is to do $k-$means clustering for the data for different values of $k$ and look at the total within sum of squares error. This total error will obviously decrease with increasing value of $k$, but it 'stabilizes' once the correct number of clusters is reached. We plot the graph of the total error vs. $k$. There will be a turning point, which denotes the big change in slope and that is the number of clusters we are looking for. Here's is the graph for the \\texttt{iris} data."
   ]
  },
  {
   "cell_type": "code",
   "execution_count": 88,
   "id": "0539954b",
   "metadata": {},
   "outputs": [
    {
     "data": {
      "image/png": "[encoded data removed]",
      "text/plain": [
       "plot without title"
      ]
     },
     "metadata": {
      "image/png": {
       "height": 420,
       "width": 420
      }
     },
     "output_type": "display_data"
    }
   ],
   "source": [
    "k = c(1:10)\n",
    "km = c()\n",
    "for (i in k){\n",
    "    km = append(km, kmeans(ir.x, i, nstart = 25)$tot.withinss)\n",
    "}\n",
    "plot(km ~ k, type=\"o\")"
   ]
  },
  {
   "cell_type": "markdown",
   "id": "437fae37",
   "metadata": {},
   "source": [
    "From this graph, we see that the big change in slope happens at $k=2$ or $k=3$. That is, the graph starts 'flattening' from $k=2$ or $k=3$."
   ]
  },
  {
   "cell_type": "markdown",
   "id": "d18c5209",
   "metadata": {},
   "source": [
    "\\newline\n",
    "(d) We compare $k-$means clustering with Hierarchical Clustering, assuming that we know that the number of clusters is $3$."
   ]
  },
  {
   "cell_type": "code",
   "execution_count": 172,
   "id": "60496821",
   "metadata": {
    "scrolled": true
   },
   "outputs": [
    {
     "name": "stdout",
     "output_type": "stream",
     "text": [
      "Error: 16 %\n",
      "The incorrect predictions:\n"
     ]
    },
    {
     "data": {
      "text/html": [
       "<table class=\"dataframe\">\n",
       "<caption>A data.frame: 24 × 6</caption>\n",
       "<thead>\n",
       "\t<tr><th></th><th scope=col>Sepal.Length</th><th scope=col>Sepal.Width</th><th scope=col>Petal.Length</th><th scope=col>Petal.Width</th><th scope=col>Actual Species</th><th scope=col>Predicted Species</th></tr>\n",
       "\t<tr><th></th><th scope=col>&lt;dbl&gt;</th><th scope=col>&lt;dbl&gt;</th><th scope=col>&lt;dbl&gt;</th><th scope=col>&lt;dbl&gt;</th><th scope=col>&lt;fct&gt;</th><th scope=col>&lt;chr&gt;</th></tr>\n",
       "</thead>\n",
       "<tbody>\n",
       "\t<tr><th scope=row>51</th><td>7.0</td><td>3.2</td><td>4.7</td><td>1.4</td><td>versicolor</td><td>virginica </td></tr>\n",
       "\t<tr><th scope=row>52</th><td>6.4</td><td>3.2</td><td>4.5</td><td>1.5</td><td>versicolor</td><td>virginica </td></tr>\n",
       "\t<tr><th scope=row>53</th><td>6.9</td><td>3.1</td><td>4.9</td><td>1.5</td><td>versicolor</td><td>virginica </td></tr>\n",
       "\t<tr><th scope=row>55</th><td>6.5</td><td>2.8</td><td>4.6</td><td>1.5</td><td>versicolor</td><td>virginica </td></tr>\n",
       "\t<tr><th scope=row>57</th><td>6.3</td><td>3.3</td><td>4.7</td><td>1.6</td><td>versicolor</td><td>virginica </td></tr>\n",
       "\t<tr><th scope=row>59</th><td>6.6</td><td>2.9</td><td>4.6</td><td>1.3</td><td>versicolor</td><td>virginica </td></tr>\n",
       "\t<tr><th scope=row>64</th><td>6.1</td><td>2.9</td><td>4.7</td><td>1.4</td><td>versicolor</td><td>virginica </td></tr>\n",
       "\t<tr><th scope=row>66</th><td>6.7</td><td>3.1</td><td>4.4</td><td>1.4</td><td>versicolor</td><td>virginica </td></tr>\n",
       "\t<tr><th scope=row>69</th><td>6.2</td><td>2.2</td><td>4.5</td><td>1.5</td><td>versicolor</td><td>virginica </td></tr>\n",
       "\t<tr><th scope=row>71</th><td>5.9</td><td>3.2</td><td>4.8</td><td>1.8</td><td>versicolor</td><td>virginica </td></tr>\n",
       "\t<tr><th scope=row>73</th><td>6.3</td><td>2.5</td><td>4.9</td><td>1.5</td><td>versicolor</td><td>virginica </td></tr>\n",
       "\t<tr><th scope=row>74</th><td>6.1</td><td>2.8</td><td>4.7</td><td>1.2</td><td>versicolor</td><td>virginica </td></tr>\n",
       "\t<tr><th scope=row>75</th><td>6.4</td><td>2.9</td><td>4.3</td><td>1.3</td><td>versicolor</td><td>virginica </td></tr>\n",
       "\t<tr><th scope=row>76</th><td>6.6</td><td>3.0</td><td>4.4</td><td>1.4</td><td>versicolor</td><td>virginica </td></tr>\n",
       "\t<tr><th scope=row>77</th><td>6.8</td><td>2.8</td><td>4.8</td><td>1.4</td><td>versicolor</td><td>virginica </td></tr>\n",
       "\t<tr><th scope=row>78</th><td>6.7</td><td>3.0</td><td>5.0</td><td>1.7</td><td>versicolor</td><td>virginica </td></tr>\n",
       "\t<tr><th scope=row>79</th><td>6.0</td><td>2.9</td><td>4.5</td><td>1.5</td><td>versicolor</td><td>virginica </td></tr>\n",
       "\t<tr><th scope=row>84</th><td>6.0</td><td>2.7</td><td>5.1</td><td>1.6</td><td>versicolor</td><td>virginica </td></tr>\n",
       "\t<tr><th scope=row>86</th><td>6.0</td><td>3.4</td><td>4.5</td><td>1.6</td><td>versicolor</td><td>virginica </td></tr>\n",
       "\t<tr><th scope=row>87</th><td>6.7</td><td>3.1</td><td>4.7</td><td>1.5</td><td>versicolor</td><td>virginica </td></tr>\n",
       "\t<tr><th scope=row>88</th><td>6.3</td><td>2.3</td><td>4.4</td><td>1.3</td><td>versicolor</td><td>virginica </td></tr>\n",
       "\t<tr><th scope=row>92</th><td>6.1</td><td>3.0</td><td>4.6</td><td>1.4</td><td>versicolor</td><td>virginica </td></tr>\n",
       "\t<tr><th scope=row>98</th><td>6.2</td><td>2.9</td><td>4.3</td><td>1.3</td><td>versicolor</td><td>virginica </td></tr>\n",
       "\t<tr><th scope=row>107</th><td>4.9</td><td>2.5</td><td>4.5</td><td>1.7</td><td>virginica </td><td>versicolor</td></tr>\n",
       "</tbody>\n",
       "</table>\n"
      ],
      "text/latex": [
       "A data.frame: 24 × 6\n",
       "\\begin{tabular}{r|llllll}\n",
       "  & Sepal.Length & Sepal.Width & Petal.Length & Petal.Width & Actual Species & Predicted Species\\\\\n",
       "  & <dbl> & <dbl> & <dbl> & <dbl> & <fct> & <chr>\\\\\n",
       "\\hline\n",
       "\t51 & 7.0 & 3.2 & 4.7 & 1.4 & versicolor & virginica \\\\\n",
       "\t52 & 6.4 & 3.2 & 4.5 & 1.5 & versicolor & virginica \\\\\n",
       "\t53 & 6.9 & 3.1 & 4.9 & 1.5 & versicolor & virginica \\\\\n",
       "\t55 & 6.5 & 2.8 & 4.6 & 1.5 & versicolor & virginica \\\\\n",
       "\t57 & 6.3 & 3.3 & 4.7 & 1.6 & versicolor & virginica \\\\\n",
       "\t59 & 6.6 & 2.9 & 4.6 & 1.3 & versicolor & virginica \\\\\n",
       "\t64 & 6.1 & 2.9 & 4.7 & 1.4 & versicolor & virginica \\\\\n",
       "\t66 & 6.7 & 3.1 & 4.4 & 1.4 & versicolor & virginica \\\\\n",
       "\t69 & 6.2 & 2.2 & 4.5 & 1.5 & versicolor & virginica \\\\\n",
       "\t71 & 5.9 & 3.2 & 4.8 & 1.8 & versicolor & virginica \\\\\n",
       "\t73 & 6.3 & 2.5 & 4.9 & 1.5 & versicolor & virginica \\\\\n",
       "\t74 & 6.1 & 2.8 & 4.7 & 1.2 & versicolor & virginica \\\\\n",
       "\t75 & 6.4 & 2.9 & 4.3 & 1.3 & versicolor & virginica \\\\\n",
       "\t76 & 6.6 & 3.0 & 4.4 & 1.4 & versicolor & virginica \\\\\n",
       "\t77 & 6.8 & 2.8 & 4.8 & 1.4 & versicolor & virginica \\\\\n",
       "\t78 & 6.7 & 3.0 & 5.0 & 1.7 & versicolor & virginica \\\\\n",
       "\t79 & 6.0 & 2.9 & 4.5 & 1.5 & versicolor & virginica \\\\\n",
       "\t84 & 6.0 & 2.7 & 5.1 & 1.6 & versicolor & virginica \\\\\n",
       "\t86 & 6.0 & 3.4 & 4.5 & 1.6 & versicolor & virginica \\\\\n",
       "\t87 & 6.7 & 3.1 & 4.7 & 1.5 & versicolor & virginica \\\\\n",
       "\t88 & 6.3 & 2.3 & 4.4 & 1.3 & versicolor & virginica \\\\\n",
       "\t92 & 6.1 & 3.0 & 4.6 & 1.4 & versicolor & virginica \\\\\n",
       "\t98 & 6.2 & 2.9 & 4.3 & 1.3 & versicolor & virginica \\\\\n",
       "\t107 & 4.9 & 2.5 & 4.5 & 1.7 & virginica  & versicolor\\\\\n",
       "\\end{tabular}\n"
      ],
      "text/markdown": [
       "\n",
       "A data.frame: 24 × 6\n",
       "\n",
       "| <!--/--> | Sepal.Length &lt;dbl&gt; | Sepal.Width &lt;dbl&gt; | Petal.Length &lt;dbl&gt; | Petal.Width &lt;dbl&gt; | Actual Species &lt;fct&gt; | Predicted Species &lt;chr&gt; |\n",
       "|---|---|---|---|---|---|---|\n",
       "| 51 | 7.0 | 3.2 | 4.7 | 1.4 | versicolor | virginica  |\n",
       "| 52 | 6.4 | 3.2 | 4.5 | 1.5 | versicolor | virginica  |\n",
       "| 53 | 6.9 | 3.1 | 4.9 | 1.5 | versicolor | virginica  |\n",
       "| 55 | 6.5 | 2.8 | 4.6 | 1.5 | versicolor | virginica  |\n",
       "| 57 | 6.3 | 3.3 | 4.7 | 1.6 | versicolor | virginica  |\n",
       "| 59 | 6.6 | 2.9 | 4.6 | 1.3 | versicolor | virginica  |\n",
       "| 64 | 6.1 | 2.9 | 4.7 | 1.4 | versicolor | virginica  |\n",
       "| 66 | 6.7 | 3.1 | 4.4 | 1.4 | versicolor | virginica  |\n",
       "| 69 | 6.2 | 2.2 | 4.5 | 1.5 | versicolor | virginica  |\n",
       "| 71 | 5.9 | 3.2 | 4.8 | 1.8 | versicolor | virginica  |\n",
       "| 73 | 6.3 | 2.5 | 4.9 | 1.5 | versicolor | virginica  |\n",
       "| 74 | 6.1 | 2.8 | 4.7 | 1.2 | versicolor | virginica  |\n",
       "| 75 | 6.4 | 2.9 | 4.3 | 1.3 | versicolor | virginica  |\n",
       "| 76 | 6.6 | 3.0 | 4.4 | 1.4 | versicolor | virginica  |\n",
       "| 77 | 6.8 | 2.8 | 4.8 | 1.4 | versicolor | virginica  |\n",
       "| 78 | 6.7 | 3.0 | 5.0 | 1.7 | versicolor | virginica  |\n",
       "| 79 | 6.0 | 2.9 | 4.5 | 1.5 | versicolor | virginica  |\n",
       "| 84 | 6.0 | 2.7 | 5.1 | 1.6 | versicolor | virginica  |\n",
       "| 86 | 6.0 | 3.4 | 4.5 | 1.6 | versicolor | virginica  |\n",
       "| 87 | 6.7 | 3.1 | 4.7 | 1.5 | versicolor | virginica  |\n",
       "| 88 | 6.3 | 2.3 | 4.4 | 1.3 | versicolor | virginica  |\n",
       "| 92 | 6.1 | 3.0 | 4.6 | 1.4 | versicolor | virginica  |\n",
       "| 98 | 6.2 | 2.9 | 4.3 | 1.3 | versicolor | virginica  |\n",
       "| 107 | 4.9 | 2.5 | 4.5 | 1.7 | virginica  | versicolor |\n",
       "\n"
      ],
      "text/plain": [
       "    Sepal.Length Sepal.Width Petal.Length Petal.Width Actual Species\n",
       "51  7.0          3.2         4.7          1.4         versicolor    \n",
       "52  6.4          3.2         4.5          1.5         versicolor    \n",
       "53  6.9          3.1         4.9          1.5         versicolor    \n",
       "55  6.5          2.8         4.6          1.5         versicolor    \n",
       "57  6.3          3.3         4.7          1.6         versicolor    \n",
       "59  6.6          2.9         4.6          1.3         versicolor    \n",
       "64  6.1          2.9         4.7          1.4         versicolor    \n",
       "66  6.7          3.1         4.4          1.4         versicolor    \n",
       "69  6.2          2.2         4.5          1.5         versicolor    \n",
       "71  5.9          3.2         4.8          1.8         versicolor    \n",
       "73  6.3          2.5         4.9          1.5         versicolor    \n",
       "74  6.1          2.8         4.7          1.2         versicolor    \n",
       "75  6.4          2.9         4.3          1.3         versicolor    \n",
       "76  6.6          3.0         4.4          1.4         versicolor    \n",
       "77  6.8          2.8         4.8          1.4         versicolor    \n",
       "78  6.7          3.0         5.0          1.7         versicolor    \n",
       "79  6.0          2.9         4.5          1.5         versicolor    \n",
       "84  6.0          2.7         5.1          1.6         versicolor    \n",
       "86  6.0          3.4         4.5          1.6         versicolor    \n",
       "87  6.7          3.1         4.7          1.5         versicolor    \n",
       "88  6.3          2.3         4.4          1.3         versicolor    \n",
       "92  6.1          3.0         4.6          1.4         versicolor    \n",
       "98  6.2          2.9         4.3          1.3         versicolor    \n",
       "107 4.9          2.5         4.5          1.7         virginica     \n",
       "    Predicted Species\n",
       "51  virginica        \n",
       "52  virginica        \n",
       "53  virginica        \n",
       "55  virginica        \n",
       "57  virginica        \n",
       "59  virginica        \n",
       "64  virginica        \n",
       "66  virginica        \n",
       "69  virginica        \n",
       "71  virginica        \n",
       "73  virginica        \n",
       "74  virginica        \n",
       "75  virginica        \n",
       "76  virginica        \n",
       "77  virginica        \n",
       "78  virginica        \n",
       "79  virginica        \n",
       "84  virginica        \n",
       "86  virginica        \n",
       "87  virginica        \n",
       "88  virginica        \n",
       "92  virginica        \n",
       "98  virginica        \n",
       "107 versicolor       "
      ]
     },
     "metadata": {},
     "output_type": "display_data"
    }
   ],
   "source": [
    "ir.hc = hclust(dist(ir.x))\n",
    "#plot(ir.hc)\n",
    "predict.ir.hc = cutree(ir.hc, k = 3)\n",
    "#table(fit)\n",
    "dummy = rep(\"a\", length(fit))\n",
    "error = c()\n",
    "min_err = 2\n",
    "min_err.index = c(0,0,0)\n",
    "answer = c()\n",
    "for (i in 1:3){\n",
    "    for (j in 1:3){\n",
    "        for (p in 1:3){\n",
    "            if (i==j | j==p | p==i) next \n",
    "            dummy[fit == i] = \"setosa\"\n",
    "            dummy[fit == j] = \"versicolor\"\n",
    "            dummy[fit == p] = \"virginica\"\n",
    "            e = mean(dummy != ir.y)\n",
    "            error = append(error, e)\n",
    "            if(e < min_err){\n",
    "                min_err = e\n",
    "                min_err.index = c(i,j,p)\n",
    "                answer = dummy\n",
    "            }\n",
    "        }\n",
    "    }\n",
    "}\n",
    "cat(\"Error:\",min_err*100,\"%\\n\")\n",
    "d = cbind(data[which(answer != ir.y),],answer[which(answer != ir.y)])\n",
    "colnames(d) = c(\"Sepal.Length\", \"Sepal.Width\", \"Petal.Length\", \"Petal.Width\", \"Actual Species\", \"Predicted Species\")\n",
    "cat(\"The incorrect predictions:\\n\")\n",
    "d"
   ]
  },
  {
   "cell_type": "markdown",
   "id": "82d4c4db",
   "metadata": {},
   "source": [
    "\\newpage\n",
    "# Problem\n",
    "Analyze the wage data as a function of age by the following methods (you can use existing packages in\n",
    "any programing language you are using).\n",
    "\\begin{enumerate}\n",
    "\\item Polynomial regression with degree $4$.\n",
    "\\item A cubic spline with knots at $25$, $40$, and $60$.\n",
    "\\item Smoothing spline with the smoothness level specified by cross-validation.\n",
    "\\item Comment on the differences of the three models and draw a conclusion.\n",
    "\\end{enumerate}"
   ]
  }
 ],
 "metadata": {
  "kernelspec": {
   "display_name": "R",
   "language": "R",
   "name": "ir"
  },
  "language_info": {
   "codemirror_mode": "r",
   "file_extension": ".r",
   "mimetype": "text/x-r-source",
   "name": "R",
   "pygments_lexer": "r",
   "version": "4.3.1"
  }
 },
 "nbformat": 4,
 "nbformat_minor": 5
}
